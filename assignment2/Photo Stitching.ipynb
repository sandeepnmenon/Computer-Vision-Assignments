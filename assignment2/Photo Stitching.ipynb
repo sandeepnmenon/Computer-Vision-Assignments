{
 "cells": [
  {
   "cell_type": "code",
   "execution_count": 1,
   "metadata": {
    "collapsed": true
   },
   "outputs": [],
   "source": [
    "import harris\n",
    "import cv2\n",
    "import numpy as np\n",
    "from scipy.linalg import svd,lstsq\n",
    "\n",
    "from matplotlib.pyplot import imshow"
   ]
  },
  {
   "cell_type": "code",
   "execution_count": 2,
   "metadata": {
    "collapsed": true
   },
   "outputs": [],
   "source": [
    "img1_orig = cv2.imread('./images/Limage.jpeg')\n",
    "img2_orig = cv2.imread('./images/Rimage.jpeg')"
   ]
  },
  {
   "cell_type": "code",
   "execution_count": 3,
   "metadata": {
    "collapsed": true
   },
   "outputs": [],
   "source": [
    "img1 = cv2.cvtColor(img1_orig,cv2.COLOR_RGB2GRAY)\n",
    "img2 = cv2.cvtColor(img2_orig,cv2.COLOR_RGB2GRAY)"
   ]
  },
  {
   "cell_type": "code",
   "execution_count": 4,
   "metadata": {
    "collapsed": true
   },
   "outputs": [],
   "source": [
    "#Blurring to reduce noise\n",
    "img1 = cv2.GaussianBlur(img1,(3,3),0)\n",
    "img2 = cv2.GaussianBlur(img2,(3,3),0)\n",
    "\n",
    "#Increasing contrast by Histogram Equalisation\n",
    "img1 = cv2.equalizeHist(img1)\n",
    "img2 = cv2.equalizeHist(img2)"
   ]
  },
  {
   "cell_type": "code",
   "execution_count": 5,
   "metadata": {},
   "outputs": [
    {
     "name": "stdout",
     "output_type": "stream",
     "text": [
      "476\n",
      "610\n"
     ]
    }
   ],
   "source": [
    "img1_corners,corners1 = harris.mark_corner_points(img1,5,5,0.04,True)\n",
    "img2_corners,corners2 = harris.mark_corner_points(img2,5,5,0.04,True)"
   ]
  },
  {
   "cell_type": "code",
   "execution_count": 6,
   "metadata": {},
   "outputs": [
    {
     "data": {
      "text/plain": [
       "True"
      ]
     },
     "execution_count": 6,
     "metadata": {},
     "output_type": "execute_result"
    }
   ],
   "source": [
    "cv2.imwrite('image1.png',img1_corners)\n",
    "cv2.imwrite('image2.png',img2_corners)"
   ]
  },
  {
   "cell_type": "code",
   "execution_count": 9,
   "metadata": {
    "collapsed": true
   },
   "outputs": [],
   "source": [
    "#Reading Common corner points\n",
    "common_corner_list = []\n",
    "with open('cornerlist.txt','r') as f:\n",
    "    common_corner_list = f.readlines()\n",
    "l_common_corner_list = [corner[:-1].split(' ')[:2] for corner in common_corner_list]\n",
    "r_common_corner_list = [corner[:-1].split(' ')[2:] for corner in common_corner_list]\n",
    "l_common_corner_list = np.array(l_common_corner_list,dtype=np.int32)\n",
    "r_common_corner_list = np.array(r_common_corner_list,dtype=np.int32)"
   ]
  },
  {
   "cell_type": "code",
   "execution_count": 24,
   "metadata": {},
   "outputs": [
    {
     "data": {
      "text/plain": [
       "True"
      ]
     },
     "execution_count": 24,
     "metadata": {},
     "output_type": "execute_result"
    }
   ],
   "source": [
    "l_new_image = img1.copy()\n",
    "l_new_image = cv2.cvtColor(l_new_image,cv2.COLOR_GRAY2RGB)\n",
    "\n",
    "r_new_image = img2.copy()\n",
    "r_new_image = cv2.cvtColor(r_new_image,cv2.COLOR_GRAY2RGB)\n",
    "\n",
    "for corner in l_common_corner_list:\n",
    "    cv2.circle(l_new_image,(int(corner[0]),int(corner[1])),4,(0,0,255),-1)\n",
    "    \n",
    "for corner in r_common_corner_list:\n",
    "    cv2.circle(r_new_image,(int(corner[0]),int(corner[1])),4,(0,0,255),-1)\n",
    "\n",
    "cv2.imwrite('Limage_commoncorners.png',l_new_image)\n",
    "cv2.imwrite('Rimage_commoncorners.png',r_new_image)"
   ]
  },
  {
   "cell_type": "code",
   "execution_count": 28,
   "metadata": {
    "collapsed": true
   },
   "outputs": [],
   "source": [
    "#Finding homography matrix\n",
    "homography_matrix , status = cv2.findHomography(l_common_corner_list,r_common_corner_list)"
   ]
  },
  {
   "cell_type": "code",
   "execution_count": 29,
   "metadata": {},
   "outputs": [
    {
     "data": {
      "text/plain": [
       "array([[  1.24961539e+00,   2.01578464e-02,  -5.74777977e+02],\n",
       "       [  2.38311603e-01,   1.19052608e+00,  -1.37854402e+02],\n",
       "       [  3.14141502e-04,   1.23588045e-05,   1.00000000e+00]])"
      ]
     },
     "execution_count": 29,
     "metadata": {},
     "output_type": "execute_result"
    }
   ],
   "source": [
    "homography_matrix"
   ]
  },
  {
   "cell_type": "code",
   "execution_count": 46,
   "metadata": {
    "collapsed": true
   },
   "outputs": [],
   "source": [
    "def stitch_image(img1,img2, homography_matrix):\n",
    "    \n",
    "    #Get dimensions of the input images\n",
    "    r1,c1 = img1.shape[:2]\n",
    "    r2,c2 = img2.shape[:2]\n",
    "    \n",
    "    #Canvas dimensions\n",
    "    img1_canvas_dims = np.float32([ [0,0], [0,r1], [c1, r1], [c1,0] ]).reshape(-1,1,2)\n",
    "    img2_canvas_dims = np.float32([ [0,0], [0,r2], [c2, r2], [c2,0] ]).reshape(-1,1,2)\n",
    "    \n",
    "\n",
    "    img1_canvas_dims = cv2.perspectiveTransform(img1_canvas_dims, homography_matrix)\n",
    "\n",
    "    stitched_img_dims = np.concatenate( (img2_canvas_dims, img1_canvas_dims), axis = 0)\n",
    "    \n",
    "    \n",
    "    [x_min, y_min] = np.int32(stitched_img_dims.min(axis=0).ravel())\n",
    "    [x_max, y_max] = np.int32(stitched_img_dims.max(axis=0).ravel())\n",
    "    \n",
    "    \n",
    "    transform_dist = [-x_min,-y_min]\n",
    "    transform_array = np.array([[1, 0, transform_dist[0]], [0, 1, transform_dist[1]], [0,0,1]])\n",
    "    \n",
    "    stitched_img = cv2.warpPerspective(img1, transform_array.dot(homography_matrix), (x_max-x_min, y_max-y_min))\n",
    "    stitched_img[transform_dist[1]:r1+transform_dist[1], transform_dist[0]:c1+transform_dist[0]] = img2\n",
    "    \n",
    "    #Cropping dimensions\n",
    "    [x_min1, y_min1] = np.int32(img2_canvas_dims.min(axis=0).ravel())\n",
    "    [x_max1, y_max1] = np.int32(img1_canvas_dims.max(axis=0).ravel())\n",
    "    \n",
    "    cropped = stitched_img[x_min:,y_min1 - y_min:y_max1-y_min]\n",
    "    \n",
    "    return stitched_img,cropped"
   ]
  },
  {
   "cell_type": "code",
   "execution_count": 47,
   "metadata": {},
   "outputs": [],
   "source": [
    "stitched_img,cropped = stitch_image(img1_orig,img2_orig,homography_matrix)"
   ]
  },
  {
   "cell_type": "code",
   "execution_count": 48,
   "metadata": {},
   "outputs": [
    {
     "data": {
      "text/plain": [
       "True"
      ]
     },
     "execution_count": 48,
     "metadata": {},
     "output_type": "execute_result"
    }
   ],
   "source": [
    "cv2.imwrite('result.png',stitched_img)"
   ]
  },
  {
   "cell_type": "code",
   "execution_count": 61,
   "metadata": {},
   "outputs": [],
   "source": [
    "mat = find_homography(l_common_corner_list,r_common_corner_list)"
   ]
  },
  {
   "cell_type": "code",
   "execution_count": 7,
   "metadata": {
    "collapsed": true
   },
   "outputs": [],
   "source": [
    "def find_affine_homography(points1,points2):\n",
    "\tif points1.shape[0] != points2.shape[0] : raise ValueError(\"The number of input and output points mismatches\")\n",
    "\tif points1.shape[1] == 2 :\n",
    "\t\tp1 = np.ones((len(points1),3),'float64')\n",
    "\t\tp1[:,:2] = points1\n",
    "\telif points1.shape[1] == 3 : p1 = points1\n",
    "\telse : raise ValueError(\"Bad shape for input points\")\n",
    "\t\n",
    "\tif points2.shape[1] == 2 :\n",
    "\t\tp2 = np.ones((len(points2),3),'float64')\n",
    "\t\tp2[:,:2] = points2\n",
    "\telif points2.shape[1] == 3 : p2 = points2\n",
    "\telse : raise ValueError(\"Bad shape for output points\")\n",
    "\t\n",
    "\tnpoints = len(points1)\n",
    "\t\n",
    "\tA = np.zeros((3*npoints,6),'float64')\n",
    "\tb = np.zeros((3*npoints,1),'float64')\n",
    "\tfor i in xrange(npoints):\n",
    "\t\tp1i = p1[i]\n",
    "\t\tx2i,y2i,w2i = p2[i]\n",
    "\t\txpi = x2i*p1i\n",
    "\t\typi = y2i*p1i\n",
    "\t\twpi = w2i*p1i\n",
    "\t\t\n",
    "\t\tA[i*3  ,3:6] = -wpi\n",
    "\t\tA[i*3+1,0:3] =  wpi\n",
    "\t\tA[i*3+2,0:3] = -ypi\n",
    "\t\tA[i*3+2,3:6] =  xpi\n",
    "\t\t\n",
    "\t\tb[i*3  ] = -y2i*p1i[2]\n",
    "\t\tb[i*3+1] =  x2i*p1i[2]\n",
    "\n",
    "\th = lstsq(A,b,overwrite_a = True, overwrite_b = True)[0]\n",
    "\tH = np.zeros( (3,3) , 'float64' )\n",
    "\tH[:2,:] = h.reshape(2,3)\n",
    "\tH[2,2] = 1\n",
    "\treturn H"
   ]
  },
  {
   "cell_type": "code",
   "execution_count": 10,
   "metadata": {},
   "outputs": [],
   "source": [
    "mat = find_affine_homography(l_common_corner_list,r_common_corner_list)"
   ]
  },
  {
   "cell_type": "code",
   "execution_count": 28,
   "metadata": {},
   "outputs": [
    {
     "data": {
      "text/plain": [
       "array([[  1.24961539e+00,   2.01578464e-02,  -5.74777977e+02],\n",
       "       [  2.38311603e-01,   1.19052608e+00,  -1.37854402e+02],\n",
       "       [  3.14141502e-04,   1.23588045e-05,   1.00000000e+00]])"
      ]
     },
     "execution_count": 28,
     "metadata": {},
     "output_type": "execute_result"
    }
   ],
   "source": [
    "homography_matrix"
   ]
  },
  {
   "cell_type": "code",
   "execution_count": 11,
   "metadata": {},
   "outputs": [
    {
     "data": {
      "text/plain": [
       "array([[  3.51039784e-01,   1.51613773e-03,  -1.57947582e+02],\n",
       "       [ -4.29115160e-02,   3.31689786e-01,   3.19106479e+01],\n",
       "       [  0.00000000e+00,   0.00000000e+00,   1.00000000e+00]])"
      ]
     },
     "execution_count": 11,
     "metadata": {},
     "output_type": "execute_result"
    }
   ],
   "source": [
    "mat"
   ]
  },
  {
   "cell_type": "code",
   "execution_count": 69,
   "metadata": {},
   "outputs": [
    {
     "name": "stdout",
     "output_type": "stream",
     "text": [
      "235\n"
     ]
    }
   ],
   "source": [
    "rbhavan_corners,corners_rbhavan = harris.mark_corner_points(rbhavan,5,5,0.04,True)\n"
   ]
  },
  {
   "cell_type": "code",
   "execution_count": 70,
   "metadata": {},
   "outputs": [
    {
     "data": {
      "text/plain": [
       "True"
      ]
     },
     "execution_count": 70,
     "metadata": {},
     "output_type": "execute_result"
    }
   ],
   "source": [
    "cv2.imwrite('rbhavan_newcorners.png',rbhavan_corners)"
   ]
  },
  {
   "cell_type": "code",
   "execution_count": null,
   "metadata": {
    "collapsed": true
   },
   "outputs": [],
   "source": []
  }
 ],
 "metadata": {
  "kernelspec": {
   "display_name": "Python 2",
   "language": "python",
   "name": "python2"
  },
  "language_info": {
   "codemirror_mode": {
    "name": "ipython",
    "version": 2
   },
   "file_extension": ".py",
   "mimetype": "text/x-python",
   "name": "python",
   "nbconvert_exporter": "python",
   "pygments_lexer": "ipython2",
   "version": "2.7.11"
  }
 },
 "nbformat": 4,
 "nbformat_minor": 2
}
