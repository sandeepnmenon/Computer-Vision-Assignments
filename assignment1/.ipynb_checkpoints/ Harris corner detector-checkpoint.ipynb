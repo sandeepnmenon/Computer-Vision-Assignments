{
 "cells": [
  {
   "cell_type": "code",
   "execution_count": 1,
   "metadata": {
    "collapsed": true
   },
   "outputs": [],
   "source": [
    "import cv2\n",
    "import numpy as np\n",
    "from matplotlib import pyplot as plt\n",
    "\n",
    "%matplotlib inline"
   ]
  },
  {
   "cell_type": "code",
   "execution_count": 40,
   "metadata": {},
   "outputs": [
    {
     "data": {
      "text/plain": [
       "<matplotlib.image.AxesImage at 0x21ba10b8>"
      ]
     },
     "execution_count": 40,
     "metadata": {},
     "output_type": "execute_result"
    },
    {
     "data": {
      "image/png": "[encoded data removed]",
      "text/plain": [
       "<matplotlib.figure.Figure at 0x21ca3a20>"
      ]
     },
     "metadata": {},
     "output_type": "display_data"
    }
   ],
   "source": [
    "img = cv2.imread('board.jpg',0)\n",
    "plt.imshow(img,cmap='gray')"
   ]
  },
  {
   "cell_type": "code",
   "execution_count": 67,
   "metadata": {
    "collapsed": true
   },
   "outputs": [],
   "source": [
    "def mark_corner_points(image,window_size,ksize,k):\n",
    "    \"\"\"\n",
    "    \"\"\"\n",
    "    \n",
    "    new_image = image.copy()\n",
    "    new_image = cv2.cvtColor(new_image,cv2.COLOR_GRAY2RGB)\n",
    "    \n",
    "    corners = []\n",
    "    threshold = 8000\n",
    "    #Gradient using sobel operator\n",
    "    sx = cv2.Sobel(image,cv2.CV_64F,1,0,ksize = ksize)\n",
    "    sy = cv2.Sobel(image,cv2.CV_64F,0,1,ksize = ksize)\n",
    "    \n",
    "    Ixx = sx**2\n",
    "    Iyy = sy**2\n",
    "    Ixy = sx*sy\n",
    "    \n",
    "    R_score_list =[]\n",
    "    rows,cols = image.shape\n",
    "    \n",
    "    offset = window_size/2\n",
    "    \n",
    "    corner_count = 0\n",
    "    for i in range(offset,rows-offset):\n",
    "        for j in range(offset,cols-offset):\n",
    "            \n",
    "            xx_window = Ixx[i-offset:i+offset+1,j-offset+offset+1]\n",
    "            yy_window = Iyy[i-offset:i+offset+1,j-offset+offset+1]\n",
    "            xy_window = Ixy[i-offset:i+offset+1,j-offset+offset+1]\n",
    "            \n",
    "            sum_xx = np.sum(xx_window)\n",
    "            sum_yy = np.sum(yy_window)\n",
    "            sum_xy = np.sum(xy_window)\n",
    "            \n",
    "            det_window = sum_xx*sum_yy - sum_xy*sum_xy\n",
    "            trace_window = sum_xx + sum_yy\n",
    "            \n",
    "            R_score = det_window - k*trace_window*trace_window\n",
    "            \n",
    "            corners.append([i,j,R_score])\n",
    "            if R_score > threshold:\n",
    "                \n",
    "                #new_image[i,j] = [0,0,255]\n",
    "                cv2.circle(new_image,(i,j),3,(0,0,255),1)\n",
    "                corner_count+=1\n",
    "                \n",
    "    print corner_count       \n",
    "    return new_image,np.array(corners)"
   ]
  },
  {
   "cell_type": "code",
   "execution_count": 68,
   "metadata": {},
   "outputs": [
    {
     "name": "stdout",
     "output_type": "stream",
     "text": [
      "5609\n"
     ]
    }
   ],
   "source": [
    "corner_marked_image,corners = mark_corner_points(img,5,3,0.04)"
   ]
  },
  {
   "cell_type": "code",
   "execution_count": 76,
   "metadata": {},
   "outputs": [
    {
     "data": {
      "text/plain": [
       "1168615794729.4399"
      ]
     },
     "execution_count": 76,
     "metadata": {},
     "output_type": "execute_result"
    }
   ],
   "source": [
    "np.max(corners)"
   ]
  },
  {
   "cell_type": "code",
   "execution_count": 52,
   "metadata": {},
   "outputs": [
    {
     "data": {
      "text/plain": [
       "True"
      ]
     },
     "execution_count": 52,
     "metadata": {},
     "output_type": "execute_result"
    },
    {
     "data": {
      "image/png": "[encoded data removed]",
      "text/plain": [
       "<matplotlib.figure.Figure at 0x21e07898>"
      ]
     },
     "metadata": {},
     "output_type": "display_data"
    }
   ],
   "source": [
    "plt.imshow(corner_marked_image)\n",
    "cv2.imwrite('corner_marked_image.png',corner_marked_image)"
   ]
  },
  {
   "cell_type": "code",
   "execution_count": 25,
   "metadata": {},
   "outputs": [
    {
     "name": "stdout",
     "output_type": "stream",
     "text": [
      "Help on built-in function circle:\n",
      "\n",
      "circle(...)\n",
      "    circle(img, center, radius, color[, thickness[, lineType[, shift]]]) -> img\n",
      "\n"
     ]
    }
   ],
   "source": [
    "help(cv2.circle)"
   ]
  },
  {
   "cell_type": "code",
   "execution_count": null,
   "metadata": {
    "collapsed": true
   },
   "outputs": [],
   "source": []
  }
 ],
 "metadata": {
  "kernelspec": {
   "display_name": "Python 2",
   "language": "python",
   "name": "python2"
  },
  "language_info": {
   "codemirror_mode": {
    "name": "ipython",
    "version": 2
   },
   "file_extension": ".py",
   "mimetype": "text/x-python",
   "name": "python",
   "nbconvert_exporter": "python",
   "pygments_lexer": "ipython2",
   "version": "2.7.14"
  }
 },
 "nbformat": 4,
 "nbformat_minor": 2
}
