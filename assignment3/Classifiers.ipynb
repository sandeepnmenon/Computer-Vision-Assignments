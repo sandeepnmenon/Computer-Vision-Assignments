{
 "cells": [
  {
   "cell_type": "code",
   "execution_count": 20,
   "metadata": {
    "collapsed": true
   },
   "outputs": [],
   "source": [
    "import numpy as np\n",
    "import cv2\n",
    "import os\n",
    "from sklearn.naive_bayes import MultinomialNB\n",
    "from sklearn.tree import DecisionTreeClassifier\n",
    "from sklearn.metrics import confusion_matrix"
   ]
  },
  {
   "cell_type": "code",
   "execution_count": 2,
   "metadata": {
    "collapsed": true
   },
   "outputs": [],
   "source": [
    "feature_dataset = np.load('bag_of_words_features.npy')"
   ]
  },
  {
   "cell_type": "code",
   "execution_count": 3,
   "metadata": {},
   "outputs": [
    {
     "data": {
      "text/plain": [
       "'\\nStep 3:\\nChoose approximately half of the images from each category, as training data. Save the\\nrest as test data.\\n'"
      ]
     },
     "execution_count": 3,
     "metadata": {},
     "output_type": "execute_result"
    }
   ],
   "source": [
    "\"\"\"\n",
    "Step 3:\n",
    "Choose approximately half of the images from each category, as training data. Save the\n",
    "rest as test data.\n",
    "\"\"\""
   ]
  },
  {
   "cell_type": "code",
   "execution_count": 4,
   "metadata": {
    "collapsed": true
   },
   "outputs": [],
   "source": [
    "category_map = {'airplanes':1, 'Motorbikes':2,'Faces_easy':3}"
   ]
  },
  {
   "cell_type": "code",
   "execution_count": 5,
   "metadata": {
    "collapsed": true
   },
   "outputs": [],
   "source": [
    "#Splitting bow_data according to categories\n",
    "category_bow_data = {}\n",
    "for data in feature_dataset:\n",
    "    if category_bow_data.has_key(data[1]):\n",
    "        category_bow_data[data[1]].append(data[0])\n",
    "    else:\n",
    "        category_bow_data[data[1]]=[]    "
   ]
  },
  {
   "cell_type": "code",
   "execution_count": 6,
   "metadata": {
    "collapsed": true
   },
   "outputs": [],
   "source": [
    "#Splitting data into training and testing data\n",
    "x_train,y_train,x_test,y_test = [[],[],[],[]]\n",
    "category_count = {'airplanes':len(category_bow_data['airplanes']), 'Motorbikes':len(category_bow_data['Motorbikes']),\n",
    "                  'Faces_easy':len(category_bow_data['Faces_easy'])}\n",
    "for category in category_map:\n",
    "    x_train.extend(category_bow_data[category][0:category_count[category]/2+1])\n",
    "    y_train.extend([category_map[category] for _ in range(len(category_bow_data[category][0:category_count[category]/2+1]))])\n",
    "    \n",
    "    x_test.extend(category_bow_data[category][category_count[category]/2+1:])\n",
    "    y_test.extend([category_map[category] for _ in range(len(category_bow_data[category][category_count[category]/2+1:]))])\n",
    "    \n",
    "x_train = np.array(x_train)\n",
    "y_train = np.array(y_train)\n",
    "x_test = np.array(x_test)\n",
    "y_test = np.array(y_test)"
   ]
  },
  {
   "cell_type": "code",
   "execution_count": 16,
   "metadata": {},
   "outputs": [
    {
     "data": {
      "text/plain": [
       "'\\nStep 4:\\nTrain Normal Bayesian Classifier of OpenCV to distinguish between the three object\\ncategories using the chosen training data.\\n\\nStep 5:\\nTest the performance of the classifier separately with training data and the test data. Report\\nthe accuracy and the confusion matrix .\\n'"
      ]
     },
     "execution_count": 16,
     "metadata": {},
     "output_type": "execute_result"
    }
   ],
   "source": [
    "\"\"\"\n",
    "Step 4:\n",
    "Train Normal Bayesian Classifier of OpenCV to distinguish between the three object\n",
    "categories using the chosen training data.\n",
    "\n",
    "Step 5:\n",
    "Test the performance of the classifier separately with training data and the test data. Report\n",
    "the accuracy and the confusion matrix .\n",
    "\"\"\""
   ]
  },
  {
   "cell_type": "code",
   "execution_count": 18,
   "metadata": {},
   "outputs": [
    {
     "name": "stdout",
     "output_type": "stream",
     "text": [
      "0.895771878073 0.880552813425\n"
     ]
    }
   ],
   "source": [
    "#Normal Bayesian Classifier\n",
    "#Training and Calculating Training and Testing Accuracy\n",
    "normal_bayes_classifier = MultinomialNB()\n",
    "normal_bayes_classifier.fit(x_train,y_train)\n",
    "print normal_bayes_classifier.score(x_train,y_train),normal_bayes_classifier.score(x_test,y_test)"
   ]
  },
  {
   "cell_type": "code",
   "execution_count": 19,
   "metadata": {},
   "outputs": [
    {
     "name": "stdout",
     "output_type": "stream",
     "text": [
      "[[320  17  62]\n",
      " [  9 383   6]\n",
      " [  9  18 189]]\n"
     ]
    }
   ],
   "source": [
    "#Calculating the confusion matrix\n",
    "y_pred = normal_bayes_classifier.predict(x_test)\n",
    "print confusion_matrix(y_test,y_pred)"
   ]
  },
  {
   "cell_type": "code",
   "execution_count": 21,
   "metadata": {},
   "outputs": [
    {
     "name": "stdout",
     "output_type": "stream",
     "text": [
      "1.0 0.780848963475\n"
     ]
    }
   ],
   "source": [
    "#Decision Tree\n",
    "#Training and Calculating Training and Testing Accuracy\n",
    "decision_tree_classifier = DecisionTreeClassifier()\n",
    "decision_tree_classifier.fit(x_train,y_train)\n",
    "print decision_tree_classifier.score(x_train,y_train),decision_tree_classifier.score(x_test,y_test)"
   ]
  },
  {
   "cell_type": "code",
   "execution_count": 22,
   "metadata": {},
   "outputs": [
    {
     "name": "stdout",
     "output_type": "stream",
     "text": [
      "[[321  35  43]\n",
      " [ 40 330  28]\n",
      " [ 49  27 140]]\n"
     ]
    }
   ],
   "source": [
    "#Calculating the confusion matrix\n",
    "y_pred = decision_tree_classifier.predict(x_test)\n",
    "print confusion_matrix(y_test,y_pred)"
   ]
  },
  {
   "cell_type": "code",
   "execution_count": null,
   "metadata": {
    "collapsed": true
   },
   "outputs": [],
   "source": []
  }
 ],
 "metadata": {
  "kernelspec": {
   "display_name": "Python 2",
   "language": "python",
   "name": "python2"
  },
  "language_info": {
   "codemirror_mode": {
    "name": "ipython",
    "version": 2
   },
   "file_extension": ".py",
   "mimetype": "text/x-python",
   "name": "python",
   "nbconvert_exporter": "python",
   "pygments_lexer": "ipython2",
   "version": "2.7.11"
  }
 },
 "nbformat": 4,
 "nbformat_minor": 2
}
