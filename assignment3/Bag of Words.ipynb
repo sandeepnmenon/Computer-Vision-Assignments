{
 "cells": [
  {
   "cell_type": "code",
   "execution_count": 100,
   "metadata": {
    "collapsed": true
   },
   "outputs": [],
   "source": [
    "import numpy as np\n",
    "import cv2\n",
    "import os\n",
    "from sklearn.cluster import KMeans"
   ]
  },
  {
   "cell_type": "code",
   "execution_count": 45,
   "metadata": {
    "collapsed": true
   },
   "outputs": [],
   "source": [
    "def read_dataset_metadata(dir_path):\n",
    "    dataset = {}\n",
    "    for filename in os.listdir(dir_path):\n",
    "        if os.path.isdir(dir_path + filename):\n",
    "            dataset[filename] = []\n",
    "            for img in os.listdir(os.path.join(dir_path + filename)):\n",
    "                dataset[filename].append(os.path.join(dir_path,filename,img))\n",
    "    return dataset\n",
    "\n",
    "def get_frequent_object(dataset,count=3):\n",
    "    \"\"\"\n",
    "    dataset : Dictionary object returned by the function 'read_dataset'\n",
    "    \n",
    "    Returns a list of objects with their frequency in descending order\n",
    "    \"\"\"\n",
    "    key_count = {}\n",
    "    for key in dataset.keys():\n",
    "        key_count[key] = len(dataset[key])\n",
    "    \n",
    "    \n",
    "    object_keys = []\n",
    "    for key, value in sorted(key_count.iteritems(), key=lambda (k,v): (v,k), reverse=True):\n",
    "        object_keys.append(key)\n",
    "        count-=1\n",
    "        if count == 0:\n",
    "            break\n",
    "    return object_keys\n",
    "    "
   ]
  },
  {
   "cell_type": "code",
   "execution_count": 46,
   "metadata": {},
   "outputs": [],
   "source": [
    "dataset_metadata = read_dataset_metadata('./101_ObjectCategories/')"
   ]
  },
  {
   "cell_type": "code",
   "execution_count": 47,
   "metadata": {},
   "outputs": [
    {
     "name": "stdout",
     "output_type": "stream",
     "text": [
      "['airplanes', 'Motorbikes', 'BACKGROUND_Google', 'Faces_easy', 'Faces']\n"
     ]
    }
   ],
   "source": [
    "frequent_objects = get_frequent_object(dataset_metadata,5)\n",
    "print frequent_objects"
   ]
  },
  {
   "cell_type": "code",
   "execution_count": 40,
   "metadata": {
    "collapsed": true
   },
   "outputs": [],
   "source": [
    "#The output of the above cell shows the 5 most frequent objects\n",
    "#In the interest of choosing three different categories as diverse from each other as possible\n",
    "#We choosse 'airplanes', 'Motorbikes' and 'Faces_easy' classes"
   ]
  },
  {
   "cell_type": "code",
   "execution_count": 49,
   "metadata": {
    "collapsed": true
   },
   "outputs": [],
   "source": [
    "categories = ['airplanes', 'Motorbikes','Faces_easy']\n",
    "\n",
    "new_dataset_metadata = {}\n",
    "for category in categories:\n",
    "    new_dataset_metadata[category] = dataset_metadata[category]"
   ]
  },
  {
   "cell_type": "code",
   "execution_count": 69,
   "metadata": {},
   "outputs": [],
   "source": [
    "def make_dataset(metadata):\n",
    "    try:\n",
    "        dataset = []\n",
    "        for key in metadata.keys():\n",
    "            for img_path in metadata[key]:\n",
    "                img = cv2.imread(img_path,0)\n",
    "                dataset.append((img,key))\n",
    "        dataset = np.array(dataset)\n",
    "        np.save('dataset',dataset)\n",
    "        return 'dataset.npy'\n",
    "    except:\n",
    "        raise \"Error in creating Dataset File\""
   ]
  },
  {
   "cell_type": "code",
   "execution_count": 70,
   "metadata": {},
   "outputs": [],
   "source": [
    "dataset_path = make_dataset(new_dataset_metadata)"
   ]
  },
  {
   "cell_type": "code",
   "execution_count": 71,
   "metadata": {},
   "outputs": [],
   "source": [
    "dataset = np.load(dataset_path)"
   ]
  },
  {
   "cell_type": "code",
   "execution_count": 80,
   "metadata": {},
   "outputs": [],
   "source": [
    "test_image = dataset[0][0]\n",
    "sift = cv2.xfeatures2d.SIFT_create()\n"
   ]
  },
  {
   "cell_type": "code",
   "execution_count": 101,
   "metadata": {},
   "outputs": [],
   "source": [
    "key_points = sift.detect(test_image,None)"
   ]
  },
  {
   "cell_type": "code",
   "execution_count": 102,
   "metadata": {},
   "outputs": [],
   "source": [
    "key_points_cart = [key_point.pt for key_point in key_points]"
   ]
  },
  {
   "cell_type": "code",
   "execution_count": 122,
   "metadata": {},
   "outputs": [],
   "source": [
    "kmeans = KMeans(n_clusters=5).fit(key_points_cart)"
   ]
  },
  {
   "cell_type": "code",
   "execution_count": 123,
   "metadata": {},
   "outputs": [
    {
     "data": {
      "text/plain": [
       "array([[  85.856209  ,   89.91530022],\n",
       "       [ 332.68444824,   76.70238133],\n",
       "       [ 190.2274754 ,   81.86299515],\n",
       "       [  69.57211974,   34.23409211],\n",
       "       [ 262.50506427,   65.79946755]])"
      ]
     },
     "execution_count": 123,
     "metadata": {},
     "output_type": "execute_result"
    }
   ],
   "source": [
    "kmeans.cluster_centers_"
   ]
  },
  {
   "cell_type": "code",
   "execution_count": 137,
   "metadata": {
    "collapsed": true
   },
   "outputs": [],
   "source": [
    "def make_bag_of_words(dataset,code_size = 8):\n",
    "    try:\n",
    "        bow_data = []\n",
    "        for img_data in dataset:\n",
    "            img = img_data[0]\n",
    "            label = img_data[1]\n",
    "\n",
    "            key_points = sift.detect(img,None)\n",
    "            key_points_cart = [key_point.pt for key_point in key_points]\n",
    "            kmeans = KMeans(n_clusters=code_size).fit(key_points_cart)\n",
    "\n",
    "            bow_data.append((kmeans.cluster_centers_,label))\n",
    "\n",
    "        bow_data = np.array(bow_data)\n",
    "        np.save('bag_of_words',bow_data)\n",
    "        return 'bag_of_words.npy'\n",
    "    except:\n",
    "        raise \"Error in creating Bag of Words File\""
   ]
  },
  {
   "cell_type": "code",
   "execution_count": 138,
   "metadata": {},
   "outputs": [],
   "source": [
    "bow_data_path = make_bag_of_words(dataset,5)"
   ]
  },
  {
   "cell_type": "code",
   "execution_count": 139,
   "metadata": {},
   "outputs": [],
   "source": [
    "bow_data = np.load(bow_data_path)"
   ]
  },
  {
   "cell_type": "code",
   "execution_count": 143,
   "metadata": {},
   "outputs": [
    {
     "data": {
      "text/plain": [
       "array([ array([[ 264.22552665,   64.26056104],\n",
       "       [  85.856209  ,   89.91530022],\n",
       "       [ 332.68444824,   76.70238133],\n",
       "       [  69.57211974,   34.23409211],\n",
       "       [ 191.50533896,   82.19230837]]),\n",
       "       'airplanes'], dtype=object)"
      ]
     },
     "execution_count": 143,
     "metadata": {},
     "output_type": "execute_result"
    }
   ],
   "source": [
    "bow_data[0]"
   ]
  },
  {
   "cell_type": "code",
   "execution_count": null,
   "metadata": {
    "collapsed": true
   },
   "outputs": [],
   "source": []
  }
 ],
 "metadata": {
  "kernelspec": {
   "display_name": "Python 2",
   "language": "python",
   "name": "python2"
  },
  "language_info": {
   "codemirror_mode": {
    "name": "ipython",
    "version": 2
   },
   "file_extension": ".py",
   "mimetype": "text/x-python",
   "name": "python",
   "nbconvert_exporter": "python",
   "pygments_lexer": "ipython2",
   "version": "2.7.11"
  }
 },
 "nbformat": 4,
 "nbformat_minor": 2
}
